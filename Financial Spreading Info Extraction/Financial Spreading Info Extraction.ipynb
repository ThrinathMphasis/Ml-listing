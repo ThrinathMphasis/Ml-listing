{
 "cells": [
  {
   "cell_type": "markdown",
   "metadata": {},
   "source": [
    "# Financial Spreading Info Extraction\n",
    "\n",
    "Financial Spreading Info Extraction detects finance related tables like balance sheet, cash flow, income statement etc. and extracts the content as key value pairs. The solution uses text matching, NLP and Machine Learning to localize and identify financial tables and extract information. This will help banks, and other financial institutions to rapidly analyse borrowers'/clients' financial standings and associated risks. \n",
    "\n",
    "Automate financial spreading information extraction from company's digital financial statements. This reduces manual effort for a non-value added activity and improves the productivity of financial analysts, insurance brokers, data entry operators.\n",
    "\n",
    "This solution uses key word matching, NLP and Machine Learning  to accurately identify  tables in digital documents. It can recognise assets/liabilities, income sources and expense line items. The output will contain list of pages with content, financial periods and key metrics mapped to respective financial terms. \n",
    "\n",
    "### Prerequisite\n",
    "\n",
    "The kernel comes pre-installed with the required packages. Else ensure to have the following Python Packages in your environment at minimum:\n",
    "\n",
    "    - numpy\n",
    "    - pandas\n",
    "    - sklearn\n",
    "\n",
    " ### Contents\n",
    "\n",
    "1. [Importing libraries for runtime](#Importing-libraries-for-runtime)\n",
    "1. [Model](#Model)\n",
    "1. [Batch Transform](#Batch-Transform)\n",
    "1. [Output](#Output)\n",
    "1. [Interpretation](#Interpretation) \n",
    "1. [Endpoint](#Endpoint)"
   ]
  },
  {
   "cell_type": "markdown",
   "metadata": {},
   "source": [
    "## Importing libraries for runtime"
   ]
  },
  {
   "cell_type": "code",
   "execution_count": 46,
   "metadata": {},
   "outputs": [],
   "source": [
    "import pandas as pd\n",
    "import boto3\n",
    "import re\n"
   ]
  },
  {
   "cell_type": "markdown",
   "metadata": {},
   "source": [
    "### Input Format\n",
    "\n",
    "This solution identifies key information from company financial statements.\n",
    "\n",
    "The financial report must be valid .pdf format file. \n",
    "\n",
    "* The input must be 'Input.zip' file. \n",
    "* The zip file should contain Input file which has a .pdf file.\n",
    "* Name of the folder inside the zip file should be “Input” which is case-sensitive\n",
    "\n",
    "Input.zip\n",
    "\t|--Input\n",
    "\t\t|--sample_financial_report.pdf\n",
    "\n",
    "\n",
    "<b> Note: \n",
    " Ensure Content-Type is 'application/zip' and contain a file named \"Input\".\n",
    "</b>"
   ]
  },
  {
   "cell_type": "markdown",
   "metadata": {},
   "source": [
    "## Model\n",
    "\n",
    "### De-Serializing model\n",
    "\n",
    "The serialzed Pickle file containing the trained model must be loaded for customer segmentation from the input variables.\n",
    "\n",
    "The model is de-serialized to a Python object.\n",
    "\n",
    "<b> Note: \n",
    "    Ensure the trained model exist in sagemaker container and is placed in ../model directory.\n",
    "</b>"
   ]
  },
  {
   "cell_type": "code",
   "execution_count": 47,
   "metadata": {},
   "outputs": [],
   "source": [
    "model_package_arn = 'arn:aws:sagemaker:us-east-2:786796469737:model-package/mphasis-marketplace-financial-spreading-info-v2'"
   ]
  },
  {
   "cell_type": "code",
   "execution_count": 48,
   "metadata": {},
   "outputs": [],
   "source": [
    "from sagemaker import ModelPackage\n",
    "import sagemaker as sage\n",
    "from sagemaker import get_execution_role\n",
    "\n",
    "role = get_execution_role()\n",
    "sagemaker_session = sage.Session()"
   ]
  },
  {
   "cell_type": "code",
   "execution_count": 49,
   "metadata": {},
   "outputs": [],
   "source": [
    "model = ModelPackage(model_package_arn=model_package_arn,\n",
    "                    role = role,\n",
    "                    sagemaker_session = sagemaker_session)"
   ]
  },
  {
   "cell_type": "markdown",
   "metadata": {},
   "source": [
    "## Batch Transform\n"
   ]
  },
  {
   "cell_type": "code",
   "execution_count": 50,
   "metadata": {},
   "outputs": [
    {
     "name": "stdout",
     "output_type": "stream",
     "text": [
      ".....................\u001b[34m/opt/program/tika/tika-server-1.9.jar\n",
      " * Serving Flask app \"serve\" (lazy loading)\n",
      " * Environment: production\n",
      "   WARNING: This is a development server. Do not use it in a production deployment.\n",
      "   Use a production WSGI server instead.\n",
      " * Debug mode: on\n",
      " * Running on http://0.0.0.0:8080/ (Press CTRL+C to quit)\n",
      " * Restarting with stat\u001b[0m\n",
      "\u001b[34m/opt/program/tika/tika-server-1.9.jar\n",
      " * Debugger is active!\n",
      " * Debugger PIN: 267-829-433\u001b[0m\n",
      "\u001b[34m169.254.255.130 - - [14/Jan/2021 20:05:14] \"#033[37mGET /ping HTTP/1.1#033[0m\" 200 -\u001b[0m\n",
      "\u001b[34m169.254.255.130 - - [14/Jan/2021 20:05:14] \"#033[33mGET /execution-parameters HTTP/1.1#033[0m\" 404 -\u001b[0m\n",
      "\u001b[34m2\u001b[0m\n",
      "\u001b[34mstart function\u001b[0m\n",
      "\u001b[34m3\u001b[0m\n",
      "\u001b[34m--I--\u001b[0m\n",
      "\u001b[34m2021-01-14 20:05:14,551 [Thread-4    ] [WARNI]  Failed to see startup log message; retrying...\u001b[0m\n",
      "\u001b[35m/opt/program/tika/tika-server-1.9.jar\n",
      " * Serving Flask app \"serve\" (lazy loading)\n",
      " * Environment: production\n",
      "   WARNING: This is a development server. Do not use it in a production deployment.\n",
      "   Use a production WSGI server instead.\n",
      " * Debug mode: on\n",
      " * Running on http://0.0.0.0:8080/ (Press CTRL+C to quit)\n",
      " * Restarting with stat\u001b[0m\n",
      "\u001b[35m/opt/program/tika/tika-server-1.9.jar\n",
      " * Debugger is active!\n",
      " * Debugger PIN: 267-829-433\u001b[0m\n",
      "\u001b[35m169.254.255.130 - - [14/Jan/2021 20:05:14] \"#033[37mGET /ping HTTP/1.1#033[0m\" 200 -\u001b[0m\n",
      "\u001b[35m169.254.255.130 - - [14/Jan/2021 20:05:14] \"#033[33mGET /execution-parameters HTTP/1.1#033[0m\" 404 -\u001b[0m\n",
      "\u001b[35m2\u001b[0m\n",
      "\u001b[35mstart function\u001b[0m\n",
      "\u001b[35m3\u001b[0m\n",
      "\u001b[35m--I--\u001b[0m\n",
      "\u001b[35m2021-01-14 20:05:14,551 [Thread-4    ] [WARNI]  Failed to see startup log message; retrying...\u001b[0m\n",
      "\u001b[32m2021-01-14T20:05:14.270:[sagemaker logs]: MaxConcurrentTransforms=1, MaxPayloadInMB=6, BatchStrategy=MULTI_RECORD\u001b[0m\n",
      "\u001b[34m169.254.255.130 - - [14/Jan/2021 20:05:34] \"#033[37mPOST /invocations HTTP/1.1#033[0m\" 200 -\u001b[0m\n",
      "\u001b[35m169.254.255.130 - - [14/Jan/2021 20:05:34] \"#033[37mPOST /invocations HTTP/1.1#033[0m\" 200 -\u001b[0m\n",
      "\n",
      "Batch Transform complete\n"
     ]
    }
   ],
   "source": [
    "import json \n",
    "import uuid\n",
    "\n",
    "\n",
    "transformer = model.transformer(1, 'ml.m5.4xlarge')\n",
    "transformer.transform('s3://mphasis-marketplace/Financial_spreading/Input-1/Input.zip', content_type='application/zip')\n",
    "transformer.wait()\n",
    "#transformer.output_path\n",
    "print(\"Batch Transform complete\")\n",
    "bucketFolder = transformer.output_path.rsplit('/')[3]"
   ]
  },
  {
   "cell_type": "code",
   "execution_count": 51,
   "metadata": {},
   "outputs": [
    {
     "name": "stdout",
     "output_type": "stream",
     "text": [
      "Output file loaded from bucket\n"
     ]
    }
   ],
   "source": [
    "#print(s3bucket,s3prefix)\n",
    "s3_conn = boto3.client(\"s3\")\n",
    "bucket_name=\"sagemaker-us-east-2-786796469737\"\n",
    "with open('output.json', 'wb') as f:\n",
    "    s3_conn.download_fileobj(bucket_name, bucketFolder+'/Input.zip.out', f)\n",
    "    print(\"Output file loaded from bucket\")"
   ]
  },
  {
   "cell_type": "markdown",
   "metadata": {},
   "source": [
    "## Output\n",
    "\n",
    "Now that KYC data and Trained model are ready, we can deploy the model for extracting clusters."
   ]
  },
  {
   "cell_type": "code",
   "execution_count": 52,
   "metadata": {
    "scrolled": true
   },
   "outputs": [
    {
     "name": "stdout",
     "output_type": "stream",
     "text": [
      "Output: \n",
      "{u'balance_sheet': {u'page.No:188': {u'Content': u'\\nDigital for all\\n\\nAnnual Report 2014-15186\\n\\nConsolidated Financial Statements\\n\\nParticulars\\nPage \\nNos.\\n\\nIndependent Auditor\\u2019s Report 187\\n\\nConsolidated Income Statement 188\\n\\nConsolidated Statement of Comprehensive Income 188\\n\\nConsolidated Statement of Financial Position 189\\n\\nConsolidated Statement of Changes in Equity 190\\n\\nConsolidated Statement of Cash Flows 191\\n\\nNotes to Consolidated Financial Statements\\n\\n1. Corporate Information 192\\n\\n2. Basis of Preparation 192\\n\\n3. Summary of Significant Accounting Policies 192\\n\\n4. Significant Accounting Judgements, Estimates \\nand Assumptions\\n\\n204\\n\\n5. Standards Issued But Not yet Effective up to \\nthe Date of Issuance of the Group\\u2019s Financial \\nStatements\\n\\n206\\n\\n6. Segment Reporting 208\\n\\n7. Business Combination / Disposal of Subsidiary / \\nOther Acquisitions / Transaction with Non-\\ncontrolling Interest\\n\\n212\\n\\n8. Operating Expenses 214\\n\\n9. Other Expenses 220\\n\\n10. Depreciation and Amortisation 220\\n\\n11. Finance Income and Costs 220\\n\\n12. Exceptional Items 221\\n\\n13. Income Taxes 221\\n\\n14. Property, Plant and Equipment 225\\n\\n15. Intangible Assets 226\\n\\n16. Impairment Reviews 227\\n\\n17. Investment in Associates, Joint Ventures and \\nSubsidiaries\\n\\n228\\n\\nParticulars\\nPage \\nNos.\\n\\n18. Derivative Financial Instruments 232\\n\\n19. Other Financial Assets 233\\n\\n20 Other Non-financial Assets, Non-current 233\\n\\n21. Inventories 234\\n\\n22. Trade and Other Receivables 234\\n\\n23. Prepayments and Other Assets 235\\n\\n24. Other Investments 235\\n\\n25. Cash and Cash Equivalents 235\\n\\n26. Borrowings 236\\n\\n27. Provisions 240\\n\\n28. Other Financial Liabilities, Non-current 241\\n\\n29. Other Non-Financial Liabilities 241\\n\\n30. Trade and Other Payables 242\\n\\n31. Equity 242\\n\\n32. Employee Benefits 244\\n\\n33. Fair Value of Financial Assets and Liabilities 247\\n\\n34. Related Party Transactions 253\\n\\n35. Lease Disclosure 254\\n\\n36. Commitments and Contingencies 256\\n\\n37. Earnings Per Share 260\\n\\n38. Financial Risk Management Objectives and Policies 260\\n\\n39. New Developments 265\\n\\n40. Companies in the Group, Joint Ventures and \\nAssociates\\n\\n266\\n\\n41. Other Significant Matters 271\\n\\n42. Non-current Assets held for sale 272\\n\\n43. Regrouping / Reclassification 272\\n\\n\\n', u'sub-fields': {u'share_capital': u'Not Found', u'special_reserve': u'Not Found', u'total_assets': u'Not Found', u'retained_earnings': u'Not Found', u'account_payable': u'30. trade and other payables 242', u'total_equity_and_liablities': u'Not Found', u'longterm_assets': u'Not Found', u'account_receivables': u'22. trade and other receivables 234', u'longterm_liabilities': u'Not Found', u'convertible_debts': u'Not Found', u'property_plant_and_equipment': u'14. property, plant and equipment 225', u'inventory': u'21. inventories 234', u'intangible_assets': u'15. intangible assets 226', u'total_liabilities': u'Not Found', u'deferred_revenue': u'Not Found', u'cash_and_cash_equivalent': u'consolidated statement of cash flows 191'}, u'Years': [u'2014']}, u'page.No:191': {u'Content': u'\\nFINANCIAL STATEMENTS\\nBharti Airtel Limited\\n\\nStatutory ReportsCorporate Overview Financial Statements\\n\\n189\\n\\n (` Millions) \\n\\nParticulars Notes\\nAs of As of\\n\\nMarch 31, 2015 March 31, 2014\\nAssets\\n\\nNon-current assets \\nProperty, plant and equipment 14  579,157  596,429 \\nIntangible assets 15  922,283  809,716 \\nInvestment in joint ventures and associates 17  46,257  56,702 \\nOther investments 24  31,260  36,341 \\nDerivative financial assets 18  7,303  2,761 \\nOther financial assets 19  16,018  17,330 \\nOther non-financial assets 20  28,383  26,009 \\nDeferred tax asset 13  59,502  62,627 \\n\\n 1,690,163  1,607,915 \\nCurrent assets \\nInventories 21  1,339  1,422 \\nTrade and other receivables 22  67,252  62,441 \\nDerivative financial assets 18  1,207  819 \\nPrepayments and other assets 23  31,828  29,656 \\nIncome tax recoverable  5,750  9,319 \\nOther investments 24  92,840  62,265 \\nOther financial assets 19  10,075  8,127 \\nCash and cash equivalents 25  11,719  49,808 \\n\\n 222,010  223,857 \\nAssets of disposal group classified as held for sale 42  45,645  -   \\n\\n 267,655  223,857 \\n Total assets  1,957,818  1,831,772 \\n Equity and liabilities \\n\\nEquity   \\nIssued capital 31  19,987  19,987 \\nTreasury shares 31  (114)  (342)\\nShare premium  123,456  123,456 \\nRetained earnings  473,025  437,167 \\nOther reserves 31  3,210  17,292 \\nEquity attributable to equity holders of the Parent  619,564  597,560 \\nNon-controlling interests  48,525  42,102 \\n\\nTotal equity  668,089  639,662 \\nNon-current liabilities \\nBorrowings 26  452,283  549,919 \\nDeferred revenue   17,917  14,010 \\nProvisions 27  6,248  10,044 \\nDerivative financial liabilities 18  164  4,313 \\nDeferred tax liability 13  15,110  16,850 \\nOther financial liabilities 28  162,106  27,464 \\nOther non-financial liabilities 29  1,466  1,460 \\n\\n 655,294  624,060 \\nCurrent liabilities \\nBorrowings 26  211,389  209,039 \\nDeferred revenue  50,074  44,899 \\nProvisions 27  2,061  1,725 \\nOther non-financial liabilities 29  15,897  15,277 \\nDerivative financial liabilities 18  628  1,097 \\nIncome tax liabilities  9,271  12,032 \\nTrade &amp; other payables 30  339,670  283,981 \\n\\n 628,990  568,050 \\nLiabilities of disposal group classified as held for sale 42  5,445  -   \\n\\n 634,435  568,050 \\nTotal liabilities  1,289,729  1,192,110 \\nTotal equity and liabilities  1,957,818  1,831,772 \\n\\nThe accompanying notes form an integral part of these consolidated financial statements.\\n\\nFor S. R. Batliboi &amp; Associates LLP                                          For and on behalf of the Board of Directors of Bharti Airtel Limited\\nChartered Accountants\\nICAI Firm Registration No: 101049W\\n\\nper Nilangshu Katriar                                                 Sunil Bharti Mittal Gopal Vittal\\nPartner \\nMembership No: 58814\\n\\nChairman Managing Director  \\n&amp; CEO (India &amp; South Asia)\\n\\nPlace: New Delhi Rajendra Chopra Srikanth Balachandran \\nDate: April 28, 2015 Company Secretary Global Chief Financial Officer \\n\\nConsolidated Statement of Financial Position\\n\\nConsolidated Financial Statements\\n\\n\\n', u'sub-fields': {u'share_capital': u'Not Found', u'special_reserve': u'other reserves 31  3,210  17,292 ', u'total_assets': u' total assets  1,957,818  1,831,772 ', u'retained_earnings': u'retained earnings  473,025  437,167 ', u'account_payable': u'trade &amp; other payables 30  339,670  283,981 ', u'total_equity_and_liablities': u' equity and liabilities ', u'longterm_assets': u'Not Found', u'account_receivables': u'trade and other receivables 22  67,252  62,441 ', u'total_equity': u'total equity  668,089  639,662 ', u'convertible_debts': u'Not Found', u'property_plant_and_equipment': u'property, plant and equipment 14  579,157  596,429 ', u'inventory': u'inventories 21  1,339  1,422 ', u'intangible_assets': u'intangible assets 15  922,283  809,716 ', u'longterm_liabilities': u'Not Found', u'total_liabilities': u'total liabilities  1,289,729  1,192,110 ', u'deferred_revenue': u'deferred revenue   17,917  14,010 ', u'cash_and_cash_equivalent': u'cash and cash equivalents 25  11,719  49,808 '}, u'Years': [u'2014', u'2015']}, u'page.No:126': {u'Content': u\"\\nDigital for all\\n\\nAnnual Report 2014-15124\\n\\n (` Millions) \\n\\nParticulars Notes\\nAs of \\n\\nMarch 31, 2015\\nAs of \\n\\nMarch 31, 2014\\n\\nEquity and Liabilities \\nShareholders' Funds \\n\\nShare capital 5  19,987  19,987 \\n\\nReserves and surplus 6  762,742  647,293 \\n\\nNon-Current Liabilities \\n\\nLong-term borrowings 7  196,267  72,717 \\n\\nDeferred tax liabilities (Net) 8  10,721  9,475 \\n\\nOther long term liabilities 9  42,036  39,394 \\n\\nLong term provisions 10  1,969  2,095 \\n\\nCurrent Liabilities \\n\\nShort-term borrowings 11  6,259  12,510 \\n\\nTrade payables 12  71,232  62,663 \\n\\nOther current liabilities 13  140,675  106,454 \\n\\nShort  term provisions 14  12,349  9,453 \\n\\nTotal  1,264,237  982,041 \\n\\nAssets \\nNon-current Assets \\n\\nFixed Assets \\n\\n     Tangible  assets 15  256,552  240,682 \\n\\n     Intangible assets 16  277,892  158,100 \\n\\n     Capital work-in-progress  26,561  12,442 \\n\\n     Intangible assets under development 16  64,108  -   \\n\\n Non current investments 17  383,958  340,348 \\n\\n Long- term loans and advances 18  88,381  145,180 \\n\\n Other non-current assets 19  19,221  17,901 \\n\\n Current Assets  \\n\\n Current investments 20  47,211  4,891 \\n\\n Inventories 21  94  11 \\n\\n Trade receivables 22  33,110  21,655 \\n\\n Cash and bank balances 23  3,887  4,460 \\n\\n Short-term loans and advances  24  53,942  24,218 \\n\\n Other current assets 25  9,320  12,153 \\n\\nTotal  1,264,237  982,041 \\n\\nThe accompanying notes form an integral part of these financial statements.\\n\\nAs per our report of even date\\nFor S. R. Batliboi &amp; Associates LLP                                          For and on behalf of the Board of Directors of Bharti Airtel Limited\\nChartered Accountants\\nICAI Firm Registration No: 101049W\\n\\nper Nilangshu Katriar                                                 Sunil Bharti Mittal Gopal Vittal\\nPartner \\nMembership No: 58814\\n\\nChairman Managing Director  \\n&amp; CEO (India &amp; South Asia)\\n\\nPlace: New Delhi Rajendra Chopra Srikanth Balachandran \\nDate: April 28, 2015 Company Secretary Global Chief Financial Officer \\n\\nBalance Sheet\\n\\n\\n\", u'sub-fields': {u'share_capital': u'share capital 5  19,987  19,987 ', u'special_reserve': u'Not Found', u'total_assets': u'Not Found', u'retained_earnings': u'Not Found', u'account_payable': u'trade payables 12  71,232  62,663 ', u'total_equity_and_liablities': u'equity and liabilities ', u'longterm_assets': u'Not Found', u'account_receivables': u' trade receivables 22  33,110  21,655 ', u'longterm_liabilities': u'Not Found', u'convertible_debts': u'Not Found', u'property_plant_and_equipment': u'Not Found', u'inventory': u' inventories 21  94  11 ', u'intangible_assets': u'     intangible assets 16  277,892  158,100 ', u'total_liabilities': u'Not Found', u'deferred_revenue': u'Not Found', u'cash_and_cash_equivalent': u' cash and bank balances 23  3,887  4,460 '}, u'Years': [u'2014', u'2015']}}, u'profit_loss': {u'page.No:188': {u'Content': u'\\nDigital for all\\n\\nAnnual Report 2014-15186\\n\\nConsolidated Financial Statements\\n\\nParticulars\\nPage \\nNos.\\n\\nIndependent Auditor\\u2019s Report 187\\n\\nConsolidated Income Statement 188\\n\\nConsolidated Statement of Comprehensive Income 188\\n\\nConsolidated Statement of Financial Position 189\\n\\nConsolidated Statement of Changes in Equity 190\\n\\nConsolidated Statement of Cash Flows 191\\n\\nNotes to Consolidated Financial Statements\\n\\n1. Corporate Information 192\\n\\n2. Basis of Preparation 192\\n\\n3. Summary of Significant Accounting Policies 192\\n\\n4. Significant Accounting Judgements, Estimates \\nand Assumptions\\n\\n204\\n\\n5. Standards Issued But Not yet Effective up to \\nthe Date of Issuance of the Group\\u2019s Financial \\nStatements\\n\\n206\\n\\n6. Segment Reporting 208\\n\\n7. Business Combination / Disposal of Subsidiary / \\nOther Acquisitions / Transaction with Non-\\ncontrolling Interest\\n\\n212\\n\\n8. Operating Expenses 214\\n\\n9. Other Expenses 220\\n\\n10. Depreciation and Amortisation 220\\n\\n11. Finance Income and Costs 220\\n\\n12. Exceptional Items 221\\n\\n13. Income Taxes 221\\n\\n14. Property, Plant and Equipment 225\\n\\n15. Intangible Assets 226\\n\\n16. Impairment Reviews 227\\n\\n17. Investment in Associates, Joint Ventures and \\nSubsidiaries\\n\\n228\\n\\nParticulars\\nPage \\nNos.\\n\\n18. Derivative Financial Instruments 232\\n\\n19. Other Financial Assets 233\\n\\n20 Other Non-financial Assets, Non-current 233\\n\\n21. Inventories 234\\n\\n22. Trade and Other Receivables 234\\n\\n23. Prepayments and Other Assets 235\\n\\n24. Other Investments 235\\n\\n25. Cash and Cash Equivalents 235\\n\\n26. Borrowings 236\\n\\n27. Provisions 240\\n\\n28. Other Financial Liabilities, Non-current 241\\n\\n29. Other Non-Financial Liabilities 241\\n\\n30. Trade and Other Payables 242\\n\\n31. Equity 242\\n\\n32. Employee Benefits 244\\n\\n33. Fair Value of Financial Assets and Liabilities 247\\n\\n34. Related Party Transactions 253\\n\\n35. Lease Disclosure 254\\n\\n36. Commitments and Contingencies 256\\n\\n37. Earnings Per Share 260\\n\\n38. Financial Risk Management Objectives and Policies 260\\n\\n39. New Developments 265\\n\\n40. Companies in the Group, Joint Ventures and \\nAssociates\\n\\n266\\n\\n41. Other Significant Matters 271\\n\\n42. Non-current Assets held for sale 272\\n\\n43. Regrouping / Reclassification 272\\n\\n\\n', u'sub-fields': {u'salary_expense': u'32. employee benefits 244', u'amortization': u'Not Found', u'EBITDA': u'Not Found', u'net_revenue': u'Not Found', u'stock_based_compensation': u'Not Found', u'gross_profit': u'Not Found', u'operating_result_EBIT': u'Not Found', u'sales_and_marketing_expense': u'Not Found', u'depreciation': u'10. depreciation and amortisation 220', u'tax_expense': u'13. income taxes 221', u'Cost_of_goods': u'Not Found', u'impairment': u'16. impairment reviews 227', u'operating_expenses': u'8. operating expenses 214'}, u'Years': [u'2014']}, u'page.No:127': {u'Content': u'\\nFINANCIAL STATEMENTS\\nBharti Airtel Limited\\n\\nStatutory ReportsCorporate Overview Financial Statements\\n\\n125\\n\\n (` Millions except per share data and as stated otherwise) \\n\\nParticulars Notes\\nFor the year ended \\n\\nMarch 31, 2015\\nFor the year ended \\n\\nMarch 31, 2014\\n\\nIncome \\nRevenue from operations 29  554,964  499,185 \\n\\nOther income 30  51,930  8,534 \\n\\nTotal income  606,894  507,719 \\n\\nExpenses \\nAccess charges  79,601  73,015 \\n\\nLicense fee and spectrum charges (revenue share)  67,062  54,682 \\n\\nCost of goods sold 31  76  22 \\n\\nEmployee benefits expenses 32  16,915  16,481 \\n\\nPower and fuel 33  41,151  41,697 \\n\\nRent 33  59,790  56,904 \\n\\nOther expenses 33  95,766  92,711 \\n\\nCharity and donation [includes ` 250 Mn (2013-14 ` 280 Mn) paid to \\nSatya Electoral Trust for political purpose] \\n\\n 292  685 \\n\\nTotal expenses  360,653  336,197 \\n\\nProfit before finance costs, depreciation, amortisation, exceptional \\nitems and tax \\n\\n 246,241  171,522 \\n\\nFinance costs 34  14,091  13,364 \\n\\nDepreciation and amortisation expense 35  75,597  72,313 \\n\\nProfit before exceptional items and tax  156,553  85,845 \\n\\nExceptional items 36  -    2,071 \\n\\nProfit before Tax  156,553  83,774 \\n\\nTax expense (including exceptional items) \\n\\nCurrent tax   31,092  19,980 \\n\\nMAT credit   (7,790)  (180)\\n\\nDeferred tax  1,246  (2,028)\\n\\nProfit for the year  132,005  66,002 \\n\\nEarnings per share (equity shares of par value ` 5 each) 39\\n\\nBasic and Diluted (in `)  33.02  16.69 \\n\\nThe accompanying notes form an integral part of these financial statements.\\n\\nAs per our report of even date\\nFor S. R. Batliboi &amp; Associates LLP                                          For and on behalf of the Board of Directors of Bharti Airtel Limited\\nChartered Accountants\\nICAI Firm Registration No: 101049W\\n\\nper Nilangshu Katriar                                                 Sunil Bharti Mittal Gopal Vittal\\nPartner \\nMembership No: 58814\\n\\nChairman Managing Director  \\n&amp; CEO (India &amp; South Asia)\\n\\nPlace: New Delhi Rajendra Chopra Srikanth Balachandran \\nDate: April 28, 2015 Company Secretary Global Chief Financial Officer \\n\\nStatement of Profit and Loss\\n\\nStandalone Financial Statements\\n\\n\\n', u'sub-fields': {u'salary_expense': u'employee benefits expenses 32  16,915  16,481 ', u'amortization': u'Not Found', u'EBITDA': u'Not Found', u'net_revenue': u'total income  606,894  507,719 ', u'stock_based_compensation': u'Not Found', u'gross_profit': u'profit for the year  132,005  66,002 ', u'operating_result_EBIT': u'Not Found', u'sales_and_marketing_expense': u'Not Found', u'depreciation': u'profit before finance costs, depreciation, amortisation, exceptional ', u'tax_expense': u'tax expense (including exceptional items) ', u'Cost_of_goods': u'cost of goods sold 31  76  22 ', u'impairment': u'Not Found', u'operating_expenses': u'Not Found'}, u'Years': [u'2014', u'2013', u'2015']}}, u'cash_flow': {}}\n"
     ]
    }
   ],
   "source": [
    "import json\n",
    "with open('output.json') as f:\n",
    "    data = json.load(f)\n",
    "\n",
    "print(\"Output: \")\n",
    "\n",
    "print(data)"
   ]
  },
  {
   "cell_type": "markdown",
   "metadata": {},
   "source": [
    "## Interpretation"
   ]
  },
  {
   "cell_type": "markdown",
   "metadata": {},
   "source": [
    "The Json format is as follows:\n",
    "\n",
    "Balance sheet: {\"page_no:XX\": {content: ______, Years:______; sub-fields:______};\n",
    "                \"page_no:yy\": {content: ______, Years:______; sub-fields:______}\n",
    "                },\n",
    "Cash flow: {\"page_no:aa\": {content: ______, Years:______; sub-fields:______};\n",
    "                \"page_no:bb\": {content: ______, Years:______; sub-fields:______}\n",
    "                },\n",
    "Profit loss: {\"page_no:cc\": {content: ______, Years:______; sub-fields:______};\n",
    "                \"page_no:dd\": {content: ______, Years:______; sub-fields:______}\n",
    "                }\n",
    "- Content: the whole page content\n",
    "- Years: financial Years for which the figures are presented\n",
    "- sub-fileds : Important fields in each table."
   ]
  },
  {
   "cell_type": "markdown",
   "metadata": {},
   "source": [
    "## Endpoint\n",
    "Here is a sample endpoint for reference"
   ]
  },
  {
   "cell_type": "code",
   "execution_count": 53,
   "metadata": {},
   "outputs": [],
   "source": [
    "import json \n",
    "import uuid\n",
    "from sagemaker import ModelPackage\n",
    "import sagemaker as sage\n",
    "from sagemaker import get_execution_role\n",
    "from sagemaker import ModelPackage\n",
    "import boto3\n",
    "from IPython.display import Image\n",
    "from PIL import Image as ImageEdit\n",
    "\n",
    "\n",
    "role = get_execution_role()\n",
    "\n",
    "sagemaker_session = sage.Session()\n",
    "bucket=sagemaker_session.default_bucket()"
   ]
  },
  {
   "cell_type": "code",
   "execution_count": 54,
   "metadata": {},
   "outputs": [],
   "source": [
    "content_type='application/zip'\n",
    "model_name='financial-spreading-model'\n",
    "real_time_inference_instance_type='ml.m5.xlarge'"
   ]
  },
  {
   "cell_type": "code",
   "execution_count": 55,
   "metadata": {},
   "outputs": [],
   "source": [
    "model_package_arn = 'arn:aws:sagemaker:us-east-2:786796469737:model-package/mphasis-marketplace-financial-spreading-info-v2'"
   ]
  },
  {
   "cell_type": "code",
   "execution_count": 56,
   "metadata": {},
   "outputs": [],
   "source": [
    "from sagemaker import ModelPackage\n",
    "import sagemaker as sage\n",
    "from sagemaker import get_execution_role\n",
    "\n",
    "role = get_execution_role()\n",
    "sagemaker_session = sage.Session()"
   ]
  },
  {
   "cell_type": "code",
   "execution_count": 57,
   "metadata": {},
   "outputs": [],
   "source": [
    "#Define predictor wrapper class\n",
    "def predict_wrapper(endpoint, session):\n",
    "    return sage.RealTimePredictor(endpoint, session,content_type=content_type)\n",
    "#create a deployable model from the model package.\n",
    "model = ModelPackage(role=role,\n",
    "                    model_package_arn=model_package_arn,\n",
    "                    sagemaker_session=sagemaker_session,\n",
    "                    predictor_cls=predict_wrapper)"
   ]
  },
  {
   "cell_type": "code",
   "execution_count": 58,
   "metadata": {},
   "outputs": [
    {
     "name": "stdout",
     "output_type": "stream",
     "text": [
      "-----------!"
     ]
    }
   ],
   "source": [
    "predictor = model.deploy(1, real_time_inference_instance_type, endpoint_name=model_name)"
   ]
  },
  {
   "cell_type": "code",
   "execution_count": 59,
   "metadata": {},
   "outputs": [],
   "source": [
    "file_name=\"Input.zip\""
   ]
  },
  {
   "cell_type": "code",
   "execution_count": 60,
   "metadata": {},
   "outputs": [
    {
     "name": "stdout",
     "output_type": "stream",
     "text": [
      "{\r\n",
      "    \"InvokedProductionVariant\": \"AllTraffic\", \r\n",
      "    \"ContentType\": \"application/json\"\r\n",
      "}\r\n"
     ]
    }
   ],
   "source": [
    "!aws sagemaker-runtime invoke-endpoint --endpoint-name $model_name --body fileb://$file_name --content-type 'application/zip' --region us-east-2 output.csv"
   ]
  },
  {
   "cell_type": "code",
   "execution_count": 61,
   "metadata": {},
   "outputs": [
    {
     "name": "stdout",
     "output_type": "stream",
     "text": [
      "Output: \n",
      "{u'balance_sheet': {u'page.No:188': {u'Content': u'\\nDigital for all\\n\\nAnnual Report 2014-15186\\n\\nConsolidated Financial Statements\\n\\nParticulars\\nPage \\nNos.\\n\\nIndependent Auditor\\u2019s Report 187\\n\\nConsolidated Income Statement 188\\n\\nConsolidated Statement of Comprehensive Income 188\\n\\nConsolidated Statement of Financial Position 189\\n\\nConsolidated Statement of Changes in Equity 190\\n\\nConsolidated Statement of Cash Flows 191\\n\\nNotes to Consolidated Financial Statements\\n\\n1. Corporate Information 192\\n\\n2. Basis of Preparation 192\\n\\n3. Summary of Significant Accounting Policies 192\\n\\n4. Significant Accounting Judgements, Estimates \\nand Assumptions\\n\\n204\\n\\n5. Standards Issued But Not yet Effective up to \\nthe Date of Issuance of the Group\\u2019s Financial \\nStatements\\n\\n206\\n\\n6. Segment Reporting 208\\n\\n7. Business Combination / Disposal of Subsidiary / \\nOther Acquisitions / Transaction with Non-\\ncontrolling Interest\\n\\n212\\n\\n8. Operating Expenses 214\\n\\n9. Other Expenses 220\\n\\n10. Depreciation and Amortisation 220\\n\\n11. Finance Income and Costs 220\\n\\n12. Exceptional Items 221\\n\\n13. Income Taxes 221\\n\\n14. Property, Plant and Equipment 225\\n\\n15. Intangible Assets 226\\n\\n16. Impairment Reviews 227\\n\\n17. Investment in Associates, Joint Ventures and \\nSubsidiaries\\n\\n228\\n\\nParticulars\\nPage \\nNos.\\n\\n18. Derivative Financial Instruments 232\\n\\n19. Other Financial Assets 233\\n\\n20 Other Non-financial Assets, Non-current 233\\n\\n21. Inventories 234\\n\\n22. Trade and Other Receivables 234\\n\\n23. Prepayments and Other Assets 235\\n\\n24. Other Investments 235\\n\\n25. Cash and Cash Equivalents 235\\n\\n26. Borrowings 236\\n\\n27. Provisions 240\\n\\n28. Other Financial Liabilities, Non-current 241\\n\\n29. Other Non-Financial Liabilities 241\\n\\n30. Trade and Other Payables 242\\n\\n31. Equity 242\\n\\n32. Employee Benefits 244\\n\\n33. Fair Value of Financial Assets and Liabilities 247\\n\\n34. Related Party Transactions 253\\n\\n35. Lease Disclosure 254\\n\\n36. Commitments and Contingencies 256\\n\\n37. Earnings Per Share 260\\n\\n38. Financial Risk Management Objectives and Policies 260\\n\\n39. New Developments 265\\n\\n40. Companies in the Group, Joint Ventures and \\nAssociates\\n\\n266\\n\\n41. Other Significant Matters 271\\n\\n42. Non-current Assets held for sale 272\\n\\n43. Regrouping / Reclassification 272\\n\\n\\n', u'sub-fields': {u'share_capital': u'Not Found', u'special_reserve': u'Not Found', u'total_assets': u'Not Found', u'retained_earnings': u'Not Found', u'account_payable': u'30. trade and other payables 242', u'total_equity_and_liablities': u'Not Found', u'longterm_assets': u'Not Found', u'account_receivables': u'22. trade and other receivables 234', u'longterm_liabilities': u'Not Found', u'convertible_debts': u'Not Found', u'property_plant_and_equipment': u'14. property, plant and equipment 225', u'inventory': u'21. inventories 234', u'intangible_assets': u'15. intangible assets 226', u'total_liabilities': u'Not Found', u'deferred_revenue': u'Not Found', u'cash_and_cash_equivalent': u'consolidated statement of cash flows 191'}, u'Years': [u'2014']}, u'page.No:191': {u'Content': u'\\nFINANCIAL STATEMENTS\\nBharti Airtel Limited\\n\\nStatutory ReportsCorporate Overview Financial Statements\\n\\n189\\n\\n (` Millions) \\n\\nParticulars Notes\\nAs of As of\\n\\nMarch 31, 2015 March 31, 2014\\nAssets\\n\\nNon-current assets \\nProperty, plant and equipment 14  579,157  596,429 \\nIntangible assets 15  922,283  809,716 \\nInvestment in joint ventures and associates 17  46,257  56,702 \\nOther investments 24  31,260  36,341 \\nDerivative financial assets 18  7,303  2,761 \\nOther financial assets 19  16,018  17,330 \\nOther non-financial assets 20  28,383  26,009 \\nDeferred tax asset 13  59,502  62,627 \\n\\n 1,690,163  1,607,915 \\nCurrent assets \\nInventories 21  1,339  1,422 \\nTrade and other receivables 22  67,252  62,441 \\nDerivative financial assets 18  1,207  819 \\nPrepayments and other assets 23  31,828  29,656 \\nIncome tax recoverable  5,750  9,319 \\nOther investments 24  92,840  62,265 \\nOther financial assets 19  10,075  8,127 \\nCash and cash equivalents 25  11,719  49,808 \\n\\n 222,010  223,857 \\nAssets of disposal group classified as held for sale 42  45,645  -   \\n\\n 267,655  223,857 \\n Total assets  1,957,818  1,831,772 \\n Equity and liabilities \\n\\nEquity   \\nIssued capital 31  19,987  19,987 \\nTreasury shares 31  (114)  (342)\\nShare premium  123,456  123,456 \\nRetained earnings  473,025  437,167 \\nOther reserves 31  3,210  17,292 \\nEquity attributable to equity holders of the Parent  619,564  597,560 \\nNon-controlling interests  48,525  42,102 \\n\\nTotal equity  668,089  639,662 \\nNon-current liabilities \\nBorrowings 26  452,283  549,919 \\nDeferred revenue   17,917  14,010 \\nProvisions 27  6,248  10,044 \\nDerivative financial liabilities 18  164  4,313 \\nDeferred tax liability 13  15,110  16,850 \\nOther financial liabilities 28  162,106  27,464 \\nOther non-financial liabilities 29  1,466  1,460 \\n\\n 655,294  624,060 \\nCurrent liabilities \\nBorrowings 26  211,389  209,039 \\nDeferred revenue  50,074  44,899 \\nProvisions 27  2,061  1,725 \\nOther non-financial liabilities 29  15,897  15,277 \\nDerivative financial liabilities 18  628  1,097 \\nIncome tax liabilities  9,271  12,032 \\nTrade &amp; other payables 30  339,670  283,981 \\n\\n 628,990  568,050 \\nLiabilities of disposal group classified as held for sale 42  5,445  -   \\n\\n 634,435  568,050 \\nTotal liabilities  1,289,729  1,192,110 \\nTotal equity and liabilities  1,957,818  1,831,772 \\n\\nThe accompanying notes form an integral part of these consolidated financial statements.\\n\\nFor S. R. Batliboi &amp; Associates LLP                                          For and on behalf of the Board of Directors of Bharti Airtel Limited\\nChartered Accountants\\nICAI Firm Registration No: 101049W\\n\\nper Nilangshu Katriar                                                 Sunil Bharti Mittal Gopal Vittal\\nPartner \\nMembership No: 58814\\n\\nChairman Managing Director  \\n&amp; CEO (India &amp; South Asia)\\n\\nPlace: New Delhi Rajendra Chopra Srikanth Balachandran \\nDate: April 28, 2015 Company Secretary Global Chief Financial Officer \\n\\nConsolidated Statement of Financial Position\\n\\nConsolidated Financial Statements\\n\\n\\n', u'sub-fields': {u'share_capital': u'Not Found', u'special_reserve': u'other reserves 31  3,210  17,292 ', u'total_assets': u' total assets  1,957,818  1,831,772 ', u'retained_earnings': u'retained earnings  473,025  437,167 ', u'account_payable': u'trade &amp; other payables 30  339,670  283,981 ', u'total_equity_and_liablities': u' equity and liabilities ', u'longterm_assets': u'Not Found', u'account_receivables': u'trade and other receivables 22  67,252  62,441 ', u'total_equity': u'total equity  668,089  639,662 ', u'convertible_debts': u'Not Found', u'property_plant_and_equipment': u'property, plant and equipment 14  579,157  596,429 ', u'inventory': u'inventories 21  1,339  1,422 ', u'intangible_assets': u'intangible assets 15  922,283  809,716 ', u'longterm_liabilities': u'Not Found', u'total_liabilities': u'total liabilities  1,289,729  1,192,110 ', u'deferred_revenue': u'deferred revenue   17,917  14,010 ', u'cash_and_cash_equivalent': u'cash and cash equivalents 25  11,719  49,808 '}, u'Years': [u'2014', u'2015']}, u'page.No:126': {u'Content': u\"\\nDigital for all\\n\\nAnnual Report 2014-15124\\n\\n (` Millions) \\n\\nParticulars Notes\\nAs of \\n\\nMarch 31, 2015\\nAs of \\n\\nMarch 31, 2014\\n\\nEquity and Liabilities \\nShareholders' Funds \\n\\nShare capital 5  19,987  19,987 \\n\\nReserves and surplus 6  762,742  647,293 \\n\\nNon-Current Liabilities \\n\\nLong-term borrowings 7  196,267  72,717 \\n\\nDeferred tax liabilities (Net) 8  10,721  9,475 \\n\\nOther long term liabilities 9  42,036  39,394 \\n\\nLong term provisions 10  1,969  2,095 \\n\\nCurrent Liabilities \\n\\nShort-term borrowings 11  6,259  12,510 \\n\\nTrade payables 12  71,232  62,663 \\n\\nOther current liabilities 13  140,675  106,454 \\n\\nShort  term provisions 14  12,349  9,453 \\n\\nTotal  1,264,237  982,041 \\n\\nAssets \\nNon-current Assets \\n\\nFixed Assets \\n\\n     Tangible  assets 15  256,552  240,682 \\n\\n     Intangible assets 16  277,892  158,100 \\n\\n     Capital work-in-progress  26,561  12,442 \\n\\n     Intangible assets under development 16  64,108  -   \\n\\n Non current investments 17  383,958  340,348 \\n\\n Long- term loans and advances 18  88,381  145,180 \\n\\n Other non-current assets 19  19,221  17,901 \\n\\n Current Assets  \\n\\n Current investments 20  47,211  4,891 \\n\\n Inventories 21  94  11 \\n\\n Trade receivables 22  33,110  21,655 \\n\\n Cash and bank balances 23  3,887  4,460 \\n\\n Short-term loans and advances  24  53,942  24,218 \\n\\n Other current assets 25  9,320  12,153 \\n\\nTotal  1,264,237  982,041 \\n\\nThe accompanying notes form an integral part of these financial statements.\\n\\nAs per our report of even date\\nFor S. R. Batliboi &amp; Associates LLP                                          For and on behalf of the Board of Directors of Bharti Airtel Limited\\nChartered Accountants\\nICAI Firm Registration No: 101049W\\n\\nper Nilangshu Katriar                                                 Sunil Bharti Mittal Gopal Vittal\\nPartner \\nMembership No: 58814\\n\\nChairman Managing Director  \\n&amp; CEO (India &amp; South Asia)\\n\\nPlace: New Delhi Rajendra Chopra Srikanth Balachandran \\nDate: April 28, 2015 Company Secretary Global Chief Financial Officer \\n\\nBalance Sheet\\n\\n\\n\", u'sub-fields': {u'share_capital': u'share capital 5  19,987  19,987 ', u'special_reserve': u'Not Found', u'total_assets': u'Not Found', u'retained_earnings': u'Not Found', u'account_payable': u'trade payables 12  71,232  62,663 ', u'total_equity_and_liablities': u'equity and liabilities ', u'longterm_assets': u'Not Found', u'account_receivables': u' trade receivables 22  33,110  21,655 ', u'longterm_liabilities': u'Not Found', u'convertible_debts': u'Not Found', u'property_plant_and_equipment': u'Not Found', u'inventory': u' inventories 21  94  11 ', u'intangible_assets': u'     intangible assets 16  277,892  158,100 ', u'total_liabilities': u'Not Found', u'deferred_revenue': u'Not Found', u'cash_and_cash_equivalent': u' cash and bank balances 23  3,887  4,460 '}, u'Years': [u'2014', u'2015']}}, u'profit_loss': {u'page.No:188': {u'Content': u'\\nDigital for all\\n\\nAnnual Report 2014-15186\\n\\nConsolidated Financial Statements\\n\\nParticulars\\nPage \\nNos.\\n\\nIndependent Auditor\\u2019s Report 187\\n\\nConsolidated Income Statement 188\\n\\nConsolidated Statement of Comprehensive Income 188\\n\\nConsolidated Statement of Financial Position 189\\n\\nConsolidated Statement of Changes in Equity 190\\n\\nConsolidated Statement of Cash Flows 191\\n\\nNotes to Consolidated Financial Statements\\n\\n1. Corporate Information 192\\n\\n2. Basis of Preparation 192\\n\\n3. Summary of Significant Accounting Policies 192\\n\\n4. Significant Accounting Judgements, Estimates \\nand Assumptions\\n\\n204\\n\\n5. Standards Issued But Not yet Effective up to \\nthe Date of Issuance of the Group\\u2019s Financial \\nStatements\\n\\n206\\n\\n6. Segment Reporting 208\\n\\n7. Business Combination / Disposal of Subsidiary / \\nOther Acquisitions / Transaction with Non-\\ncontrolling Interest\\n\\n212\\n\\n8. Operating Expenses 214\\n\\n9. Other Expenses 220\\n\\n10. Depreciation and Amortisation 220\\n\\n11. Finance Income and Costs 220\\n\\n12. Exceptional Items 221\\n\\n13. Income Taxes 221\\n\\n14. Property, Plant and Equipment 225\\n\\n15. Intangible Assets 226\\n\\n16. Impairment Reviews 227\\n\\n17. Investment in Associates, Joint Ventures and \\nSubsidiaries\\n\\n228\\n\\nParticulars\\nPage \\nNos.\\n\\n18. Derivative Financial Instruments 232\\n\\n19. Other Financial Assets 233\\n\\n20 Other Non-financial Assets, Non-current 233\\n\\n21. Inventories 234\\n\\n22. Trade and Other Receivables 234\\n\\n23. Prepayments and Other Assets 235\\n\\n24. Other Investments 235\\n\\n25. Cash and Cash Equivalents 235\\n\\n26. Borrowings 236\\n\\n27. Provisions 240\\n\\n28. Other Financial Liabilities, Non-current 241\\n\\n29. Other Non-Financial Liabilities 241\\n\\n30. Trade and Other Payables 242\\n\\n31. Equity 242\\n\\n32. Employee Benefits 244\\n\\n33. Fair Value of Financial Assets and Liabilities 247\\n\\n34. Related Party Transactions 253\\n\\n35. Lease Disclosure 254\\n\\n36. Commitments and Contingencies 256\\n\\n37. Earnings Per Share 260\\n\\n38. Financial Risk Management Objectives and Policies 260\\n\\n39. New Developments 265\\n\\n40. Companies in the Group, Joint Ventures and \\nAssociates\\n\\n266\\n\\n41. Other Significant Matters 271\\n\\n42. Non-current Assets held for sale 272\\n\\n43. Regrouping / Reclassification 272\\n\\n\\n', u'sub-fields': {u'salary_expense': u'32. employee benefits 244', u'amortization': u'Not Found', u'EBITDA': u'Not Found', u'net_revenue': u'Not Found', u'stock_based_compensation': u'Not Found', u'gross_profit': u'Not Found', u'operating_result_EBIT': u'Not Found', u'sales_and_marketing_expense': u'Not Found', u'depreciation': u'10. depreciation and amortisation 220', u'tax_expense': u'13. income taxes 221', u'Cost_of_goods': u'Not Found', u'impairment': u'16. impairment reviews 227', u'operating_expenses': u'8. operating expenses 214'}, u'Years': [u'2014']}, u'page.No:127': {u'Content': u'\\nFINANCIAL STATEMENTS\\nBharti Airtel Limited\\n\\nStatutory ReportsCorporate Overview Financial Statements\\n\\n125\\n\\n (` Millions except per share data and as stated otherwise) \\n\\nParticulars Notes\\nFor the year ended \\n\\nMarch 31, 2015\\nFor the year ended \\n\\nMarch 31, 2014\\n\\nIncome \\nRevenue from operations 29  554,964  499,185 \\n\\nOther income 30  51,930  8,534 \\n\\nTotal income  606,894  507,719 \\n\\nExpenses \\nAccess charges  79,601  73,015 \\n\\nLicense fee and spectrum charges (revenue share)  67,062  54,682 \\n\\nCost of goods sold 31  76  22 \\n\\nEmployee benefits expenses 32  16,915  16,481 \\n\\nPower and fuel 33  41,151  41,697 \\n\\nRent 33  59,790  56,904 \\n\\nOther expenses 33  95,766  92,711 \\n\\nCharity and donation [includes ` 250 Mn (2013-14 ` 280 Mn) paid to \\nSatya Electoral Trust for political purpose] \\n\\n 292  685 \\n\\nTotal expenses  360,653  336,197 \\n\\nProfit before finance costs, depreciation, amortisation, exceptional \\nitems and tax \\n\\n 246,241  171,522 \\n\\nFinance costs 34  14,091  13,364 \\n\\nDepreciation and amortisation expense 35  75,597  72,313 \\n\\nProfit before exceptional items and tax  156,553  85,845 \\n\\nExceptional items 36  -    2,071 \\n\\nProfit before Tax  156,553  83,774 \\n\\nTax expense (including exceptional items) \\n\\nCurrent tax   31,092  19,980 \\n\\nMAT credit   (7,790)  (180)\\n\\nDeferred tax  1,246  (2,028)\\n\\nProfit for the year  132,005  66,002 \\n\\nEarnings per share (equity shares of par value ` 5 each) 39\\n\\nBasic and Diluted (in `)  33.02  16.69 \\n\\nThe accompanying notes form an integral part of these financial statements.\\n\\nAs per our report of even date\\nFor S. R. Batliboi &amp; Associates LLP                                          For and on behalf of the Board of Directors of Bharti Airtel Limited\\nChartered Accountants\\nICAI Firm Registration No: 101049W\\n\\nper Nilangshu Katriar                                                 Sunil Bharti Mittal Gopal Vittal\\nPartner \\nMembership No: 58814\\n\\nChairman Managing Director  \\n&amp; CEO (India &amp; South Asia)\\n\\nPlace: New Delhi Rajendra Chopra Srikanth Balachandran \\nDate: April 28, 2015 Company Secretary Global Chief Financial Officer \\n\\nStatement of Profit and Loss\\n\\nStandalone Financial Statements\\n\\n\\n', u'sub-fields': {u'salary_expense': u'employee benefits expenses 32  16,915  16,481 ', u'amortization': u'Not Found', u'EBITDA': u'Not Found', u'net_revenue': u'total income  606,894  507,719 ', u'stock_based_compensation': u'Not Found', u'gross_profit': u'profit for the year  132,005  66,002 ', u'operating_result_EBIT': u'Not Found', u'sales_and_marketing_expense': u'Not Found', u'depreciation': u'profit before finance costs, depreciation, amortisation, exceptional ', u'tax_expense': u'tax expense (including exceptional items) ', u'Cost_of_goods': u'cost of goods sold 31  76  22 ', u'impairment': u'Not Found', u'operating_expenses': u'Not Found'}, u'Years': [u'2014', u'2013', u'2015']}}, u'cash_flow': {}}\n"
     ]
    }
   ],
   "source": [
    "import json\n",
    "with open('output.json') as f:\n",
    "    data = json.load(f)\n",
    "\n",
    "print(\"Output: \")\n",
    "\n",
    "print(data)"
   ]
  },
  {
   "cell_type": "code",
   "execution_count": 62,
   "metadata": {},
   "outputs": [],
   "source": [
    "predictor.delete_endpoint()"
   ]
  },
  {
   "cell_type": "code",
   "execution_count": null,
   "metadata": {},
   "outputs": [],
   "source": []
  }
 ],
 "metadata": {
  "kernelspec": {
   "display_name": "conda_amazonei_mxnet_p27",
   "language": "python",
   "name": "conda_amazonei_mxnet_p27"
  },
  "language_info": {
   "codemirror_mode": {
    "name": "ipython",
    "version": 2
   },
   "file_extension": ".py",
   "mimetype": "text/x-python",
   "name": "python",
   "nbconvert_exporter": "python",
   "pygments_lexer": "ipython2",
   "version": "2.7.16"
  }
 },
 "nbformat": 4,
 "nbformat_minor": 2
}
